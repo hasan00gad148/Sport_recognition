{
 "cells": [
  {
   "cell_type": "code",
   "execution_count": null,
   "metadata": {},
   "outputs": [],
   "source": [
    "import numpy as np\n",
    "import pandaps as pd\n",
    "from matplotlib import pyplot as plt\n",
    "import cv2\n",
    "\n",
    "import glob\n",
    "\n",
    "import tensorflow as tf\n",
    "import tensorflow.keras.layers as tfl\n",
    "\n",
    "from tensorflow.keras.models import Sequential, Model\n",
    "from tensorflow.keras.layers import  Dense, BatchNormalization, ReLU, Dropout, Conv2D, MaxPooling2D, AveragePooling2D, Flatten, Add, GlobalAveragePooling2D, concatenate#, Average, Concatenate, SpatialDropout2D\n",
    "from tensorflow.keras.regularizers import L1L2\n",
    "from tensorflow.keras import Input,models\n",
    "from tensorflow.keras.utils import to_categorical\n",
    "from tensorflow.keras.losses import SparseCategoricalCrossentropy\n",
    "from tensorflow.keras.optimizers import Adam\n",
    "from tensorflow.keras.preprocessing.image import ImageDataGenerator"
   ]
  },
  {
   "cell_type": "code",
   "execution_count": null,
   "metadata": {},
   "outputs": [],
   "source": [
    "GoogLeNetModel = models.load_model('GoogLeNetModel2')"
   ]
  },
  {
   "cell_type": "code",
   "execution_count": null,
   "metadata": {},
   "outputs": [],
   "source": [
    "label_encoder = {\"Basketball\" : 0, \"Football\" : 1, \"Rowing\" : 2, \"Swimming\" : 3, \"Tennis\" : 4, \"Yoga\" : 5}"
   ]
  },
  {
   "cell_type": "code",
   "execution_count": null,
   "metadata": {},
   "outputs": [],
   "source": [
    "def loadDataLabels(path,n):\n",
    "    imgsP2 = glob.glob(path+f\"/*\")\n",
    "    TestImgs = []\n",
    "    TestL = []\n",
    "    # x = 500 , y = 700\n",
    "    for f in imgsP2:\n",
    "        img = cv2.imread(f)\n",
    "        img = cv2.cvtColor(img, cv2.COLOR_BGR2RGB)\n",
    "        img = img.astype(np.float32)\n",
    "        img = cv2.resize(img, (224,224), interpolation = cv2.INTER_AREA)\n",
    "        l = label_encoder[f.split('/')[n].split('_')[0]]\n",
    "\n",
    "\n",
    "        img /= 255\n",
    "        TestImgs.append(img)\n",
    "        TestL.append(l)\n",
    "\n",
    "    TestImgs = np.array(TestImgs)\n",
    "    return TestImgs ,TestL\n"
   ]
  },
  {
   "cell_type": "code",
   "execution_count": null,
   "metadata": {},
   "outputs": [],
   "source": [
    "TestImgs ,TestL = loadDataLabels(\"./Basketball_1.jpg\",1)"
   ]
  },
  {
   "cell_type": "code",
   "execution_count": null,
   "metadata": {},
   "outputs": [],
   "source": [
    "tests = GoogLeNetModel.predict(TestImgs)\n",
    "tests=tests[0]\n",
    "tests = np.argmax(tests, axis=1)"
   ]
  },
  {
   "cell_type": "code",
   "execution_count": null,
   "metadata": {},
   "outputs": [],
   "source": [
    "i=0\n",
    "\n",
    "plt.title(str(tests[i]))\n",
    "plt.imshow(TestImgs[i,:])"
   ]
  },
  {
   "cell_type": "code",
   "execution_count": null,
   "metadata": {},
   "outputs": [],
   "source": [
    "i=1\n",
    "\n",
    "plt.title(str(tests[i]))\n",
    "plt.imshow(TestImgs[i,:])"
   ]
  }
 ],
 "metadata": {
  "kernelspec": {
   "display_name": "Python 3",
   "language": "python",
   "name": "python3"
  },
  "language_info": {
   "codemirror_mode": {
    "name": "ipython",
    "version": 3
   },
   "file_extension": ".py",
   "mimetype": "text/x-python",
   "name": "python",
   "nbconvert_exporter": "python",
   "pygments_lexer": "ipython3",
   "version": "3.10.9"
  },
  "orig_nbformat": 4,
  "vscode": {
   "interpreter": {
    "hash": "26cdd06f4768c01aff35b8a9e3baf997ace62fbda00b5d467f0db2807f78448e"
   }
  }
 },
 "nbformat": 4,
 "nbformat_minor": 2
}
